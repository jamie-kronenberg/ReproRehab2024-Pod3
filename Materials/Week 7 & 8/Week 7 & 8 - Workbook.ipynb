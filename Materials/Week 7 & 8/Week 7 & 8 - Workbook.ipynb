{
 "cells": [
  {
   "cell_type": "markdown",
   "id": "1ec5da40-7f2f-45d7-9882-b1dc5cc7bff4",
   "metadata": {},
   "source": [
    "# Week 7 & 8: Putting it all together!"
   ]
  },
  {
   "cell_type": "markdown",
   "id": "d775053d-a7e8-4275-9e59-1399290940e0",
   "metadata": {},
   "source": [
    "## Clear the entire workspace"
   ]
  },
  {
   "cell_type": "code",
   "execution_count": 1,
   "id": "ad6e2e5f-465e-4e9e-87ab-024fa8f028e4",
   "metadata": {
    "vscode": {
     "languageId": "r"
    }
   },
   "outputs": [],
   "source": [
    "rm(list=ls())"
   ]
  },
  {
   "cell_type": "markdown",
   "id": "723449fb-d256-4c9a-8cbd-c8335cefd24e",
   "metadata": {},
   "source": [
    "## Load libraries"
   ]
  },
  {
   "cell_type": "code",
   "execution_count": 3,
   "id": "2b567138-4f14-49a3-ba02-3b8e7bffa62b",
   "metadata": {
    "vscode": {
     "languageId": "r"
    }
   },
   "outputs": [],
   "source": [
    "ReqdLibs = c(\"here\",\"ggplot2\",\"dplyr\",\"tidyr\",\"stringr\",\"janitor\",\"broom\",\"emmeans\")\n",
    "invisible(lapply(ReqdLibs, library, character.only = TRUE))"
   ]
  },
  {
   "cell_type": "markdown",
   "id": "5f9a91f9-7700-4c80-9f00-3282b8712dbe",
   "metadata": {},
   "source": [
    "## Check and set data directory\n",
    "<font color = 'orange'> ***Recap Week 1*** learning </font> <br>\n",
    "We want to know where we are and where we need to get the data from."
   ]
  },
  {
   "cell_type": "code",
   "execution_count": null,
   "id": "902f3320-a1d6-42f4-b8ad-6518b650e4a3",
   "metadata": {
    "vscode": {
     "languageId": "r"
    }
   },
   "outputs": [],
   "source": []
  },
  {
   "cell_type": "markdown",
   "id": "ebaf9bc8-e3e3-42f3-b969-5507d19f0322",
   "metadata": {},
   "source": [
    "## Import data\n",
    "<font color = 'orange'> ***Recap Week 2*** learning </font> <br>\n",
    "We need some place to put the data and we don't want to read each file one by one."
   ]
  },
  {
   "cell_type": "code",
   "execution_count": null,
   "id": "531ba501-d639-4a60-ab97-1179622bd25d",
   "metadata": {
    "vscode": {
     "languageId": "r"
    }
   },
   "outputs": [],
   "source": []
  },
  {
   "cell_type": "markdown",
   "id": "9cca9f35-e65d-402f-bafd-ed9130fa883b",
   "metadata": {},
   "source": [
    "## Data wrangling\n",
    "<font color = 'orange'> ***Recap Week 3*** learning </font> <br>\n",
    "We need some identifiers for plotting. We also don't want to plot all the variables one by one.\n"
   ]
  },
  {
   "cell_type": "code",
   "execution_count": null,
   "id": "e3676ee2-c7da-47ea-a4a3-30b2cc92f3ae",
   "metadata": {
    "vscode": {
     "languageId": "r"
    }
   },
   "outputs": [],
   "source": []
  },
  {
   "cell_type": "markdown",
   "id": "e1b40efb-b630-4009-879b-9d9844601cb2",
   "metadata": {},
   "source": [
    "## Visualize data\n",
    "<font color = 'orange'> ***Recap Week 4*** learning </font> <br>\n",
    "We need an initial version of a plot where we can see all our data as means and standard errors. We want its appearance to be large and clear enough to be visible to the (relatively old) human eye."
   ]
  },
  {
   "cell_type": "code",
   "execution_count": null,
   "id": "ade6d0bc-0f68-4f68-b2fd-29b6fec6da7e",
   "metadata": {
    "vscode": {
     "languageId": "r"
    }
   },
   "outputs": [],
   "source": []
  },
  {
   "cell_type": "markdown",
   "id": "ed40d9fd-b8e7-4d61-94a4-14b4356a3dcd",
   "metadata": {},
   "source": [
    "## Advanced data wrangling\n",
    "<font color = 'orange'> ***Recap Week 4*** learning </font> <br>\n",
    "What's the problem with the plot above?\n"
   ]
  },
  {
   "cell_type": "code",
   "execution_count": null,
   "id": "389dbd60-7a37-4f7e-9495-c4fd9ef0f4ba",
   "metadata": {
    "vscode": {
     "languageId": "r"
    }
   },
   "outputs": [],
   "source": []
  },
  {
   "cell_type": "markdown",
   "id": "5e76c88c-7253-419b-884a-2e1974dc957c",
   "metadata": {},
   "source": [
    "***\n",
    "## What did you find from visual analysis of the data?\n"
   ]
  },
  {
   "cell_type": "code",
   "execution_count": null,
   "id": "0265cd3f-4395-40d0-aa03-83efe32a91bd",
   "metadata": {
    "vscode": {
     "languageId": "r"
    }
   },
   "outputs": [],
   "source": []
  },
  {
   "cell_type": "markdown",
   "id": "19ebff77-c516-438b-a7b7-10c2cd846249",
   "metadata": {},
   "source": [
    "## Statistics\n",
    "<font color = 'orange'> ***Recap Week 5*** learning </font> <br>\n",
    "We want to compare if some of these measures are significantly different between the 3 sessions."
   ]
  },
  {
   "cell_type": "code",
   "execution_count": null,
   "id": "4490be9d-bcb2-4856-ba08-faa104a593dd",
   "metadata": {
    "vscode": {
     "languageId": "r"
    }
   },
   "outputs": [],
   "source": []
  },
  {
   "cell_type": "markdown",
   "id": "ebf00ebb-ecd5-4a7a-9e07-e342720d6dfd",
   "metadata": {},
   "source": [
    "# Conclusion\n",
    "**What did you find?**<br><br>\n"
   ]
  },
  {
   "cell_type": "code",
   "execution_count": null,
   "id": "c0d02046-4218-4586-a186-34ef6cd8f30e",
   "metadata": {
    "vscode": {
     "languageId": "r"
    }
   },
   "outputs": [],
   "source": []
  }
 ],
 "metadata": {
  "kernelspec": {
   "display_name": "R",
   "language": "R",
   "name": "ir"
  },
  "language_info": {
   "codemirror_mode": "r",
   "file_extension": ".r",
   "mimetype": "text/x-r-source",
   "name": "R",
   "pygments_lexer": "r",
   "version": "4.4.1"
  },
  "widgets": {
   "application/vnd.jupyter.widget-state+json": {
    "state": {},
    "version_major": 2,
    "version_minor": 0
   }
  }
 },
 "nbformat": 4,
 "nbformat_minor": 5
}
